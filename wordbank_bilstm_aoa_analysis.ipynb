{
 "cells": [
  {
   "cell_type": "code",
   "execution_count": 1,
   "metadata": {},
   "outputs": [],
   "source": [
    "import pandas as pd\n",
    "import matplotlib.pyplot as plt\n",
    "import numpy as np\n",
    "from scipy.stats import pearsonr\n",
    "import pyreadr\n",
    "from sklearn.linear_model import LinearRegression\n",
    "from sklearn.metrics import r2_score"
   ]
  },
  {
   "cell_type": "code",
   "execution_count": 2,
   "metadata": {},
   "outputs": [
    {
     "data": {
      "text/html": [
       "<div>\n",
       "<style scoped>\n",
       "    .dataframe tbody tr th:only-of-type {\n",
       "        vertical-align: middle;\n",
       "    }\n",
       "\n",
       "    .dataframe tbody tr th {\n",
       "        vertical-align: top;\n",
       "    }\n",
       "\n",
       "    .dataframe thead th {\n",
       "        text-align: right;\n",
       "    }\n",
       "</style>\n",
       "<table border=\"1\" class=\"dataframe\">\n",
       "  <thead>\n",
       "    <tr style=\"text-align: right;\">\n",
       "      <th></th>\n",
       "      <th>Steps</th>\n",
       "      <th>Token</th>\n",
       "      <th>MedianRank</th>\n",
       "      <th>MeanSurprisal</th>\n",
       "      <th>StdevSurprisal</th>\n",
       "      <th>Accuracy</th>\n",
       "      <th>NumExamples</th>\n",
       "    </tr>\n",
       "  </thead>\n",
       "  <tbody>\n",
       "    <tr>\n",
       "      <th>0</th>\n",
       "      <td>100</td>\n",
       "      <td>horse</td>\n",
       "      <td>19983</td>\n",
       "      <td>14.895349</td>\n",
       "      <td>0.004593</td>\n",
       "      <td>0.000000</td>\n",
       "      <td>512</td>\n",
       "    </tr>\n",
       "    <tr>\n",
       "      <th>1</th>\n",
       "      <td>100</td>\n",
       "      <td>tummy</td>\n",
       "      <td>18820</td>\n",
       "      <td>14.891188</td>\n",
       "      <td>0.002782</td>\n",
       "      <td>0.000000</td>\n",
       "      <td>440</td>\n",
       "    </tr>\n",
       "    <tr>\n",
       "      <th>2</th>\n",
       "      <td>100</td>\n",
       "      <td>stuck</td>\n",
       "      <td>22680</td>\n",
       "      <td>14.909454</td>\n",
       "      <td>0.004160</td>\n",
       "      <td>0.000000</td>\n",
       "      <td>512</td>\n",
       "    </tr>\n",
       "    <tr>\n",
       "      <th>3</th>\n",
       "      <td>100</td>\n",
       "      <td>church</td>\n",
       "      <td>20880</td>\n",
       "      <td>14.900540</td>\n",
       "      <td>0.002751</td>\n",
       "      <td>0.000000</td>\n",
       "      <td>512</td>\n",
       "    </tr>\n",
       "    <tr>\n",
       "      <th>4</th>\n",
       "      <td>100</td>\n",
       "      <td>it</td>\n",
       "      <td>1410</td>\n",
       "      <td>14.787140</td>\n",
       "      <td>0.005986</td>\n",
       "      <td>0.000000</td>\n",
       "      <td>512</td>\n",
       "    </tr>\n",
       "    <tr>\n",
       "      <th>...</th>\n",
       "      <td>...</td>\n",
       "      <td>...</td>\n",
       "      <td>...</td>\n",
       "      <td>...</td>\n",
       "      <td>...</td>\n",
       "      <td>...</td>\n",
       "      <td>...</td>\n",
       "    </tr>\n",
       "    <tr>\n",
       "      <th>127083</th>\n",
       "      <td>1000000</td>\n",
       "      <td>deer</td>\n",
       "      <td>72</td>\n",
       "      <td>9.663195</td>\n",
       "      <td>3.975208</td>\n",
       "      <td>0.052734</td>\n",
       "      <td>512</td>\n",
       "    </tr>\n",
       "    <tr>\n",
       "      <th>127084</th>\n",
       "      <td>1000000</td>\n",
       "      <td>egg</td>\n",
       "      <td>56</td>\n",
       "      <td>8.933968</td>\n",
       "      <td>4.905982</td>\n",
       "      <td>0.148438</td>\n",
       "      <td>512</td>\n",
       "    </tr>\n",
       "    <tr>\n",
       "      <th>127085</th>\n",
       "      <td>1000000</td>\n",
       "      <td>oven</td>\n",
       "      <td>10</td>\n",
       "      <td>7.006861</td>\n",
       "      <td>4.581110</td>\n",
       "      <td>0.195312</td>\n",
       "      <td>512</td>\n",
       "    </tr>\n",
       "    <tr>\n",
       "      <th>127086</th>\n",
       "      <td>1000000</td>\n",
       "      <td>clock</td>\n",
       "      <td>2</td>\n",
       "      <td>5.743079</td>\n",
       "      <td>5.174706</td>\n",
       "      <td>0.419922</td>\n",
       "      <td>512</td>\n",
       "    </tr>\n",
       "    <tr>\n",
       "      <th>127087</th>\n",
       "      <td>1000000</td>\n",
       "      <td>milk</td>\n",
       "      <td>43</td>\n",
       "      <td>9.053726</td>\n",
       "      <td>4.324092</td>\n",
       "      <td>0.041016</td>\n",
       "      <td>512</td>\n",
       "    </tr>\n",
       "  </tbody>\n",
       "</table>\n",
       "<p>127088 rows × 7 columns</p>\n",
       "</div>"
      ],
      "text/plain": [
       "          Steps   Token  MedianRank  MeanSurprisal  StdevSurprisal  Accuracy  \\\n",
       "0           100   horse       19983      14.895349        0.004593  0.000000   \n",
       "1           100   tummy       18820      14.891188        0.002782  0.000000   \n",
       "2           100   stuck       22680      14.909454        0.004160  0.000000   \n",
       "3           100  church       20880      14.900540        0.002751  0.000000   \n",
       "4           100      it        1410      14.787140        0.005986  0.000000   \n",
       "...         ...     ...         ...            ...             ...       ...   \n",
       "127083  1000000    deer          72       9.663195        3.975208  0.052734   \n",
       "127084  1000000     egg          56       8.933968        4.905982  0.148438   \n",
       "127085  1000000    oven          10       7.006861        4.581110  0.195312   \n",
       "127086  1000000   clock           2       5.743079        5.174706  0.419922   \n",
       "127087  1000000    milk          43       9.053726        4.324092  0.041016   \n",
       "\n",
       "        NumExamples  \n",
       "0               512  \n",
       "1               440  \n",
       "2               512  \n",
       "3               512  \n",
       "4               512  \n",
       "...             ...  \n",
       "127083          512  \n",
       "127084          512  \n",
       "127085          512  \n",
       "127086          512  \n",
       "127087          512  \n",
       "\n",
       "[127088 rows x 7 columns]"
      ]
     },
     "execution_count": 2,
     "metadata": {},
     "output_type": "execute_result"
    }
   ],
   "source": [
    "bilstm_data = pd.read_csv('./data/bilstm_surprisals.txt', sep='\\t')\n",
    "bilstm_data['Token'] = bilstm_data['Token'].str.strip('▁')\n",
    "bilstm_data"
   ]
  },
  {
   "cell_type": "code",
   "execution_count": 3,
   "metadata": {},
   "outputs": [],
   "source": [
    "word_df = bilstm_data[bilstm_data['Token'] == 'eat']\n",
    "word_steps = np.log(word_df['Steps'].values)"
   ]
  },
  {
   "cell_type": "code",
   "execution_count": 4,
   "metadata": {},
   "outputs": [
    {
     "data": {
      "text/plain": [
       "<matplotlib.collections.PathCollection at 0x177e43670>"
      ]
     },
     "execution_count": 4,
     "metadata": {},
     "output_type": "execute_result"
    },
    {
     "data": {
      "image/png": "[encoded data removed]",
      "text/plain": [
       "<Figure size 640x480 with 1 Axes>"
      ]
     },
     "metadata": {},
     "output_type": "display_data"
    }
   ],
   "source": [
    "plt.gca().invert_yaxis()\n",
    "plt.scatter(np.log(word_df['Steps'].values), word_df['MeanSurprisal'].values)"
   ]
  },
  {
   "cell_type": "code",
   "execution_count": 5,
   "metadata": {},
   "outputs": [],
   "source": [
    "from scipy.optimize import curve_fit\n",
    "\n",
    "def sigmoid(x, L ,x0, k, b):\n",
    "    y = L / (1 + np.exp(-k*(x-x0))) + b\n",
    "    return (y.ravel())\n",
    "\n",
    "# If we model AoA as the surprisal of the model for a word after training \n",
    "def get_last_surprisal(word):\n",
    "    word_df = bilstm_data[bilstm_data['Token'] == word]\n",
    "    word_surprisal = word_df['MeanSurprisal'].values\n",
    "    return word_surprisal[-1]\n",
    "\n",
    "# If we model AoA as the number of steps at which the model reaches 50% of the\n",
    "# suprisal for that word compared to the lowest it will reach once trained.\n",
    "# fits a sigmpoid as per: https://arxiv.org/pdf/2110.02406.pdf\n",
    "def get_model_aoa(word):\n",
    "    word_df = bilstm_data[bilstm_data['Token'] == word]\n",
    "    word_steps = np.log(word_df['Steps'].values)\n",
    "    word_surprisal = word_df['MeanSurprisal'].values\n",
    "    p0 = [max(word_surprisal), np.median(word_surprisal), 1, min(word_surprisal)] # this is an mandatory initial guess\n",
    "\n",
    "    try:\n",
    "        popt, pcov = curve_fit(sigmoid, word_steps.reshape(-1, 1), word_surprisal, p0, method='dogbox')\n",
    "    except:\n",
    "        return -1\n",
    "    v_50 = word_surprisal[-1] + (word_surprisal[0] - word_surprisal[-1])/2\n",
    "    \n",
    "    aoa = popt[1] - (1/popt[2]) * np.log(-1 + popt[0]/(v_50 - popt[3]))\n",
    "    \n",
    "    return aoa"
   ]
  },
  {
   "cell_type": "code",
   "execution_count": 6,
   "metadata": {},
   "outputs": [
    {
     "name": "stderr",
     "output_type": "stream",
     "text": [
      "/var/folders/yd/tb591z796mv2qrjpzyyx3tjh0000gn/T/ipykernel_66630/2712548579.py:28: RuntimeWarning: invalid value encountered in log\n",
      "  aoa = popt[1] - (1/popt[2]) * np.log(-1 + popt[0]/(v_50 - popt[3]))\n"
     ]
    }
   ],
   "source": [
    "word_aoa = {}\n",
    "for word in set(bilstm_data['Token']):\n",
    "    aoa = get_model_aoa(word)\n",
    "    word_aoa[word] = aoa"
   ]
  },
  {
   "cell_type": "code",
   "execution_count": 7,
   "metadata": {},
   "outputs": [],
   "source": [
    "# deleting words for which fitting sigmoid failed\n",
    "del_words = []\n",
    "for word in word_aoa:\n",
    "    if str(word_aoa[word]) == 'nan':\n",
    "        del_words.append(word)\n",
    "for word in del_words:\n",
    "    del word_aoa[word]"
   ]
  },
  {
   "cell_type": "code",
   "execution_count": 8,
   "metadata": {},
   "outputs": [
    {
     "name": "stdout",
     "output_type": "stream",
     "text": [
      "16.456542350002366 14.89534854888916\n"
     ]
    },
    {
     "data": {
      "text/plain": [
       "<matplotlib.legend.Legend at 0x2970e2100>"
      ]
     },
     "execution_count": 8,
     "metadata": {},
     "output_type": "execute_result"
    },
    {
     "data": {
      "image/png": "[encoded data removed]",
      "text/plain": [
       "<Figure size 640x480 with 1 Axes>"
      ]
     },
     "metadata": {},
     "output_type": "display_data"
    }
   ],
   "source": [
    "# Visualising a sigmoid curve\n",
    "\n",
    "word_df = bilstm_data[bilstm_data['Token'] == 'horse']\n",
    "word_steps = np.log(word_df['Steps'].values)\n",
    "word_surprisal = word_df['MeanSurprisal'].values\n",
    "p0 = [max(word_surprisal), np.median(word_surprisal), 1, min(word_surprisal)] # this is an mandatory initial guess\n",
    "\n",
    "popt, pcov = curve_fit(sigmoid, word_steps.reshape(-1, 1), word_surprisal, p0, method='dogbox')\n",
    "\n",
    "v_50 = word_surprisal[-1] + (word_surprisal[0] - word_surprisal[-1])/2\n",
    "\n",
    "aoa = popt[1] - (1/popt[2]) * np.log(-1 + popt[0]/(v_50 - popt[3]))\n",
    "\n",
    "print(sigmoid(word_steps[0], *popt)[0], word_surprisal[0])\n",
    "plt.scatter(word_steps, word_surprisal)\n",
    "plt.scatter(aoa, sigmoid(aoa, *popt), color='red', label='BiLSTM AoA')\n",
    "plt.plot(word_steps, sigmoid(word_steps, *popt), color='orange')\n",
    "plt.legend()"
   ]
  },
  {
   "cell_type": "markdown",
   "metadata": {},
   "source": [
    "#### We could use the above AoAs using this curve fit, but the paper's code has provided the data of the AoAs they obtained with the above method directly, so we test with that"
   ]
  },
  {
   "cell_type": "code",
   "execution_count": 9,
   "metadata": {},
   "outputs": [],
   "source": [
    "bilstm_midpoint_surprisals = pd.read_csv('./data/bilstm_aoa_midpoint.txt', sep='\\t')"
   ]
  },
  {
   "cell_type": "code",
   "execution_count": 10,
   "metadata": {},
   "outputs": [
    {
     "data": {
      "text/html": [
       "<div>\n",
       "<style scoped>\n",
       "    .dataframe tbody tr th:only-of-type {\n",
       "        vertical-align: middle;\n",
       "    }\n",
       "\n",
       "    .dataframe tbody tr th {\n",
       "        vertical-align: top;\n",
       "    }\n",
       "\n",
       "    .dataframe thead th {\n",
       "        text-align: right;\n",
       "    }\n",
       "</style>\n",
       "<table border=\"1\" class=\"dataframe\">\n",
       "  <thead>\n",
       "    <tr style=\"text-align: right;\">\n",
       "      <th></th>\n",
       "      <th>Token</th>\n",
       "      <th>LmAoA</th>\n",
       "      <th>LmCutoff</th>\n",
       "      <th>MaxSurprisal</th>\n",
       "      <th>MinSurprisal</th>\n",
       "      <th>ParamUpper</th>\n",
       "      <th>ParamLower</th>\n",
       "      <th>ParamXmid</th>\n",
       "      <th>ParamScale</th>\n",
       "    </tr>\n",
       "  </thead>\n",
       "  <tbody>\n",
       "    <tr>\n",
       "      <th>0</th>\n",
       "      <td>a</td>\n",
       "      <td>2.329342</td>\n",
       "      <td>12.915168</td>\n",
       "      <td>14.736223</td>\n",
       "      <td>0.939625</td>\n",
       "      <td>24.902178</td>\n",
       "      <td>0.928158</td>\n",
       "      <td>2.329342</td>\n",
       "      <td>0.576778</td>\n",
       "    </tr>\n",
       "    <tr>\n",
       "      <th>1</th>\n",
       "      <td>about</td>\n",
       "      <td>3.168829</td>\n",
       "      <td>9.910866</td>\n",
       "      <td>15.072885</td>\n",
       "      <td>2.030145</td>\n",
       "      <td>17.900674</td>\n",
       "      <td>1.921058</td>\n",
       "      <td>3.168829</td>\n",
       "      <td>0.607426</td>\n",
       "    </tr>\n",
       "    <tr>\n",
       "      <th>2</th>\n",
       "      <td>above</td>\n",
       "      <td>3.965837</td>\n",
       "      <td>10.302863</td>\n",
       "      <td>14.915832</td>\n",
       "      <td>5.505376</td>\n",
       "      <td>15.434107</td>\n",
       "      <td>5.171619</td>\n",
       "      <td>3.965837</td>\n",
       "      <td>0.648469</td>\n",
       "    </tr>\n",
       "    <tr>\n",
       "      <th>3</th>\n",
       "      <td>after</td>\n",
       "      <td>3.381988</td>\n",
       "      <td>9.299350</td>\n",
       "      <td>14.801922</td>\n",
       "      <td>3.229886</td>\n",
       "      <td>15.690182</td>\n",
       "      <td>2.908519</td>\n",
       "      <td>3.381988</td>\n",
       "      <td>0.698027</td>\n",
       "    </tr>\n",
       "    <tr>\n",
       "      <th>4</th>\n",
       "      <td>airplane</td>\n",
       "      <td>4.635389</td>\n",
       "      <td>13.042166</td>\n",
       "      <td>18.330551</td>\n",
       "      <td>9.583564</td>\n",
       "      <td>16.548075</td>\n",
       "      <td>9.536257</td>\n",
       "      <td>4.635389</td>\n",
       "      <td>0.420715</td>\n",
       "    </tr>\n",
       "    <tr>\n",
       "      <th>...</th>\n",
       "      <td>...</td>\n",
       "      <td>...</td>\n",
       "      <td>...</td>\n",
       "      <td>...</td>\n",
       "      <td>...</td>\n",
       "      <td>...</td>\n",
       "      <td>...</td>\n",
       "      <td>...</td>\n",
       "      <td>...</td>\n",
       "    </tr>\n",
       "    <tr>\n",
       "      <th>606</th>\n",
       "      <td>yourself</td>\n",
       "      <td>3.707389</td>\n",
       "      <td>11.166744</td>\n",
       "      <td>18.843767</td>\n",
       "      <td>4.232142</td>\n",
       "      <td>18.090303</td>\n",
       "      <td>4.243185</td>\n",
       "      <td>3.707389</td>\n",
       "      <td>0.535139</td>\n",
       "    </tr>\n",
       "    <tr>\n",
       "      <th>607</th>\n",
       "      <td>yum</td>\n",
       "      <td>4.709474</td>\n",
       "      <td>14.180643</td>\n",
       "      <td>19.122623</td>\n",
       "      <td>10.599930</td>\n",
       "      <td>17.813080</td>\n",
       "      <td>10.548205</td>\n",
       "      <td>4.709474</td>\n",
       "      <td>0.393736</td>\n",
       "    </tr>\n",
       "    <tr>\n",
       "      <th>608</th>\n",
       "      <td>zebra</td>\n",
       "      <td>4.811781</td>\n",
       "      <td>14.864068</td>\n",
       "      <td>19.115267</td>\n",
       "      <td>11.748349</td>\n",
       "      <td>17.725077</td>\n",
       "      <td>12.003059</td>\n",
       "      <td>4.811781</td>\n",
       "      <td>0.312925</td>\n",
       "    </tr>\n",
       "    <tr>\n",
       "      <th>609</th>\n",
       "      <td>zipper</td>\n",
       "      <td>4.492230</td>\n",
       "      <td>11.435413</td>\n",
       "      <td>17.006746</td>\n",
       "      <td>6.918405</td>\n",
       "      <td>15.932373</td>\n",
       "      <td>6.938454</td>\n",
       "      <td>4.492230</td>\n",
       "      <td>0.434225</td>\n",
       "    </tr>\n",
       "    <tr>\n",
       "      <th>610</th>\n",
       "      <td>zoo</td>\n",
       "      <td>4.820020</td>\n",
       "      <td>12.940030</td>\n",
       "      <td>17.445210</td>\n",
       "      <td>9.641430</td>\n",
       "      <td>16.512597</td>\n",
       "      <td>9.367462</td>\n",
       "      <td>4.820020</td>\n",
       "      <td>0.497083</td>\n",
       "    </tr>\n",
       "  </tbody>\n",
       "</table>\n",
       "<p>611 rows × 9 columns</p>\n",
       "</div>"
      ],
      "text/plain": [
       "        Token     LmAoA   LmCutoff  MaxSurprisal  MinSurprisal  ParamUpper  \\\n",
       "0           a  2.329342  12.915168     14.736223      0.939625   24.902178   \n",
       "1       about  3.168829   9.910866     15.072885      2.030145   17.900674   \n",
       "2       above  3.965837  10.302863     14.915832      5.505376   15.434107   \n",
       "3       after  3.381988   9.299350     14.801922      3.229886   15.690182   \n",
       "4    airplane  4.635389  13.042166     18.330551      9.583564   16.548075   \n",
       "..        ...       ...        ...           ...           ...         ...   \n",
       "606  yourself  3.707389  11.166744     18.843767      4.232142   18.090303   \n",
       "607       yum  4.709474  14.180643     19.122623     10.599930   17.813080   \n",
       "608     zebra  4.811781  14.864068     19.115267     11.748349   17.725077   \n",
       "609    zipper  4.492230  11.435413     17.006746      6.918405   15.932373   \n",
       "610       zoo  4.820020  12.940030     17.445210      9.641430   16.512597   \n",
       "\n",
       "     ParamLower  ParamXmid  ParamScale  \n",
       "0      0.928158   2.329342    0.576778  \n",
       "1      1.921058   3.168829    0.607426  \n",
       "2      5.171619   3.965837    0.648469  \n",
       "3      2.908519   3.381988    0.698027  \n",
       "4      9.536257   4.635389    0.420715  \n",
       "..          ...        ...         ...  \n",
       "606    4.243185   3.707389    0.535139  \n",
       "607   10.548205   4.709474    0.393736  \n",
       "608   12.003059   4.811781    0.312925  \n",
       "609    6.938454   4.492230    0.434225  \n",
       "610    9.367462   4.820020    0.497083  \n",
       "\n",
       "[611 rows x 9 columns]"
      ]
     },
     "execution_count": 10,
     "metadata": {},
     "output_type": "execute_result"
    }
   ],
   "source": [
    "bilstm_midpoint_surprisals"
   ]
  },
  {
   "cell_type": "code",
   "execution_count": 11,
   "metadata": {},
   "outputs": [],
   "source": [
    "lm_aoa = {}\n",
    "for i, sub_df in bilstm_midpoint_surprisals[['Token', 'LmAoA']].iterrows():\n",
    "    lm_aoa[sub_df['Token']] = sub_df['LmAoA']"
   ]
  },
  {
   "cell_type": "code",
   "execution_count": 12,
   "metadata": {},
   "outputs": [],
   "source": [
    "# Get ground truth AoA from AO-CHILDES dataset\n",
    "result = pyreadr.read_r('./data/aoa_predictor_data_unify.rds') \n",
    "df = result[None]\n",
    "\n",
    "df_eng = df[\n",
    "    (df['language'] == 'English (American)') & (df['measure'] == 'produces')\n",
    "    #& (df['lexical_category'] == 'predicates')\n",
    "]\n",
    "\n",
    "ao_childes_aoa = {}\n",
    "for i, sub_df in df_eng[['definition', 'aoa']].iterrows():\n",
    "    ao_childes_aoa[sub_df['definition']] = sub_df['aoa']"
   ]
  },
  {
   "cell_type": "code",
   "execution_count": 13,
   "metadata": {},
   "outputs": [],
   "source": [
    "# Get AoAs for words common between the AO-CHILDES dataset and our model\n",
    "common_aoas = []\n",
    "for word in lm_aoa:\n",
    "    if word in ao_childes_aoa:\n",
    "        common_aoas.append((word, lm_aoa[word], ao_childes_aoa[word]))\n",
    "\n",
    "common_aoas_df = pd.DataFrame(common_aoas, columns=['word', 'predicted_aoa', 'ao_childes_aoa'])"
   ]
  },
  {
   "cell_type": "code",
   "execution_count": 14,
   "metadata": {},
   "outputs": [
    {
     "data": {
      "text/plain": [
       "Text(0, 0.5, 'AO-CHILDES AoA')"
      ]
     },
     "execution_count": 14,
     "metadata": {},
     "output_type": "execute_result"
    },
    {
     "data": {
      "image/png": "[encoded data removed]",
      "text/plain": [
       "<Figure size 640x480 with 1 Axes>"
      ]
     },
     "metadata": {},
     "output_type": "display_data"
    }
   ],
   "source": [
    "plt.scatter(common_aoas_df['predicted_aoa'].values, common_aoas_df['ao_childes_aoa'])\n",
    "plt.xlabel(\"BiLSTM AoA\")\n",
    "plt.ylabel(\"AO-CHILDES AoA\")"
   ]
  },
  {
   "cell_type": "code",
   "execution_count": 16,
   "metadata": {},
   "outputs": [
    {
     "data": {
      "text/plain": [
       "PearsonRResult(statistic=-0.27338006029358086, pvalue=4.695576809219599e-10)"
      ]
     },
     "execution_count": 16,
     "metadata": {},
     "output_type": "execute_result"
    }
   ],
   "source": [
    "pearsonr(\n",
    "    common_aoas_df['ao_childes_aoa'].values,\n",
    "    common_aoas_df['predicted_aoa'].values\n",
    ")"
   ]
  },
  {
   "cell_type": "markdown",
   "metadata": {},
   "source": [
    "We see negative correlation between AO-CHILDES AoA and the model AoA, but when filtering by predicates, nouns or function words, it becomes positive (around 0.16, but with a higher p value, 0.18 for predicates showing it can't be trusted)."
   ]
  },
  {
   "cell_type": "code",
   "execution_count": 17,
   "metadata": {},
   "outputs": [],
   "source": [
    "def adj_r2_score(y, y_pred, p):\n",
    "    n = y.shape[0]\n",
    "    r2 = r2_score(y, y_pred)\n",
    "    return 1-((1-r2)*(n-1)/(n-p-1))"
   ]
  },
  {
   "cell_type": "code",
   "execution_count": 18,
   "metadata": {},
   "outputs": [
    {
     "data": {
      "text/html": [
       "<style>#sk-container-id-1 {color: black;}#sk-container-id-1 pre{padding: 0;}#sk-container-id-1 div.sk-toggleable {background-color: white;}#sk-container-id-1 label.sk-toggleable__label {cursor: pointer;display: block;width: 100%;margin-bottom: 0;padding: 0.3em;box-sizing: border-box;text-align: center;}#sk-container-id-1 label.sk-toggleable__label-arrow:before {content: \"▸\";float: left;margin-right: 0.25em;color: #696969;}#sk-container-id-1 label.sk-toggleable__label-arrow:hover:before {color: black;}#sk-container-id-1 div.sk-estimator:hover label.sk-toggleable__label-arrow:before {color: black;}#sk-container-id-1 div.sk-toggleable__content {max-height: 0;max-width: 0;overflow: hidden;text-align: left;background-color: #f0f8ff;}#sk-container-id-1 div.sk-toggleable__content pre {margin: 0.2em;color: black;border-radius: 0.25em;background-color: #f0f8ff;}#sk-container-id-1 input.sk-toggleable__control:checked~div.sk-toggleable__content {max-height: 200px;max-width: 100%;overflow: auto;}#sk-container-id-1 input.sk-toggleable__control:checked~label.sk-toggleable__label-arrow:before {content: \"▾\";}#sk-container-id-1 div.sk-estimator input.sk-toggleable__control:checked~label.sk-toggleable__label {background-color: #d4ebff;}#sk-container-id-1 div.sk-label input.sk-toggleable__control:checked~label.sk-toggleable__label {background-color: #d4ebff;}#sk-container-id-1 input.sk-hidden--visually {border: 0;clip: rect(1px 1px 1px 1px);clip: rect(1px, 1px, 1px, 1px);height: 1px;margin: -1px;overflow: hidden;padding: 0;position: absolute;width: 1px;}#sk-container-id-1 div.sk-estimator {font-family: monospace;background-color: #f0f8ff;border: 1px dotted black;border-radius: 0.25em;box-sizing: border-box;margin-bottom: 0.5em;}#sk-container-id-1 div.sk-estimator:hover {background-color: #d4ebff;}#sk-container-id-1 div.sk-parallel-item::after {content: \"\";width: 100%;border-bottom: 1px solid gray;flex-grow: 1;}#sk-container-id-1 div.sk-label:hover label.sk-toggleable__label {background-color: #d4ebff;}#sk-container-id-1 div.sk-serial::before {content: \"\";position: absolute;border-left: 1px solid gray;box-sizing: border-box;top: 0;bottom: 0;left: 50%;z-index: 0;}#sk-container-id-1 div.sk-serial {display: flex;flex-direction: column;align-items: center;background-color: white;padding-right: 0.2em;padding-left: 0.2em;position: relative;}#sk-container-id-1 div.sk-item {position: relative;z-index: 1;}#sk-container-id-1 div.sk-parallel {display: flex;align-items: stretch;justify-content: center;background-color: white;position: relative;}#sk-container-id-1 div.sk-item::before, #sk-container-id-1 div.sk-parallel-item::before {content: \"\";position: absolute;border-left: 1px solid gray;box-sizing: border-box;top: 0;bottom: 0;left: 50%;z-index: -1;}#sk-container-id-1 div.sk-parallel-item {display: flex;flex-direction: column;z-index: 1;position: relative;background-color: white;}#sk-container-id-1 div.sk-parallel-item:first-child::after {align-self: flex-end;width: 50%;}#sk-container-id-1 div.sk-parallel-item:last-child::after {align-self: flex-start;width: 50%;}#sk-container-id-1 div.sk-parallel-item:only-child::after {width: 0;}#sk-container-id-1 div.sk-dashed-wrapped {border: 1px dashed gray;margin: 0 0.4em 0.5em 0.4em;box-sizing: border-box;padding-bottom: 0.4em;background-color: white;}#sk-container-id-1 div.sk-label label {font-family: monospace;font-weight: bold;display: inline-block;line-height: 1.2em;}#sk-container-id-1 div.sk-label-container {text-align: center;}#sk-container-id-1 div.sk-container {/* jupyter's `normalize.less` sets `[hidden] { display: none; }` but bootstrap.min.css set `[hidden] { display: none !important; }` so we also need the `!important` here to be able to override the default hidden behavior on the sphinx rendered scikit-learn.org. See: https://github.com/scikit-learn/scikit-learn/issues/21755 */display: inline-block !important;position: relative;}#sk-container-id-1 div.sk-text-repr-fallback {display: none;}</style><div id=\"sk-container-id-1\" class=\"sk-top-container\"><div class=\"sk-text-repr-fallback\"><pre>LinearRegression()</pre><b>In a Jupyter environment, please rerun this cell to show the HTML representation or trust the notebook. <br />On GitHub, the HTML representation is unable to render, please try loading this page with nbviewer.org.</b></div><div class=\"sk-container\" hidden><div class=\"sk-item\"><div class=\"sk-estimator sk-toggleable\"><input class=\"sk-toggleable__control sk-hidden--visually\" id=\"sk-estimator-id-1\" type=\"checkbox\" checked><label for=\"sk-estimator-id-1\" class=\"sk-toggleable__label sk-toggleable__label-arrow\">LinearRegression</label><div class=\"sk-toggleable__content\"><pre>LinearRegression()</pre></div></div></div></div></div>"
      ],
      "text/plain": [
       "LinearRegression()"
      ]
     },
     "execution_count": 18,
     "metadata": {},
     "output_type": "execute_result"
    }
   ],
   "source": [
    "model = LinearRegression()\n",
    "model.fit(common_aoas_df['predicted_aoa'].values.reshape(-1, 1), common_aoas_df['ao_childes_aoa'].values)"
   ]
  },
  {
   "cell_type": "markdown",
   "metadata": {},
   "source": [
    "The R^2 fit is still pretty bad as the data doesn't form a line per se."
   ]
  },
  {
   "cell_type": "code",
   "execution_count": 19,
   "metadata": {},
   "outputs": [
    {
     "data": {
      "text/plain": [
       "0.07288613068085414"
      ]
     },
     "execution_count": 19,
     "metadata": {},
     "output_type": "execute_result"
    }
   ],
   "source": [
    "adj_r2_score(common_aoas_df['ao_childes_aoa'].values, model.predict(common_aoas_df['predicted_aoa'].values.reshape(-1, 1)), p=1)"
   ]
  }
 ],
 "metadata": {
  "kernelspec": {
   "display_name": ".venv",
   "language": "python",
   "name": "python3"
  },
  "language_info": {
   "codemirror_mode": {
    "name": "ipython",
    "version": 3
   },
   "file_extension": ".py",
   "mimetype": "text/x-python",
   "name": "python",
   "nbconvert_exporter": "python",
   "pygments_lexer": "ipython3",
   "version": "3.9.6"
  },
  "orig_nbformat": 4
 },
 "nbformat": 4,
 "nbformat_minor": 2
}
